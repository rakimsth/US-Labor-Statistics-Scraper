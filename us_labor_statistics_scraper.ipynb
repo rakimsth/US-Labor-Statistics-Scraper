{
 "cells": [
  {
   "cell_type": "code",
   "execution_count": 173,
   "metadata": {},
   "outputs": [],
   "source": [
    "from bs4 import BeautifulSoup\n",
    "from selenium import webdriver\n",
    "import pandas as pd\n",
    "import json\n",
    "import regex as re"
   ]
  },
  {
   "cell_type": "code",
   "execution_count": 176,
   "metadata": {
    "tags": [
     "outputPrepend"
    ]
   },
   "outputs": [],
   "source": [
    "\n",
    "loopy = [\"https://data.bls.gov/cew/apps/table_maker/v4/table_maker.htm#type=6&year=2015&qtr=A&own=5&area=39000&supp=0\",\n",
    "         \"https://data.bls.gov/cew/apps/table_maker/v4/table_maker.htm#type=6&year=2018&qtr=A&own=5&area=39000&supp=0\",\n",
    "         \"https://data.bls.gov/cew/apps/table_maker/v4/table_maker.htm#type=6&year=2018&qtr=A&own=5&area=39001&supp=0\",\n",
    "         \"https://data.bls.gov/cew/apps/table_maker/v4/table_maker.htm#type=6&year=2015&qtr=A&own=5&area=39001&supp=0\",        \n",
    "         \"https://data.bls.gov/cew/apps/table_maker/v4/table_maker.htm#type=6&year=2018&qtr=A&own=5&area=US000&supp=0\",\n",
    "         \"https://data.bls.gov/cew/apps/table_maker/v4/table_maker.htm#type=6&year=2015&qtr=A&own=5&area=US000&supp=0\"]\n",
    "for stateYear in loopy:\n",
    "    baseUrl = stateYear\n",
    "    baseYear = baseUrl[73:77]\n",
    "    baseCode = baseUrl[95:100]\n",
    "    # Download chromeDriver from https://chromedriver.storage.googleapis.com/index.htmlpath=81.0.4044.138\n",
    "    browser = webdriver.Chrome(executable_path=r\"C:\\Users\\Raktim\\Desktop\\chromedriver_win32\\chromedriver.exe\")\n",
    "    try:\n",
    "        browser.get(baseUrl)    \n",
    "        page = BeautifulSoup(browser.page_source, 'html.parser')\n",
    "        tbody = page.find(id='cewTableBody')\n",
    "        headings = ['NAICS Sector','Annual Establishments','Annual Average Employment','Total Annual Wages', 'Annual Average Weekly Wage', 'Annual Wages per Employee', 'Annual Average Employment Location Quotient', 'Total Annual Wages Location Quotient']    \n",
    "        table_data = []\n",
    "        for tr in tbody.find_all(\"tr\"): # find all tr's from tbody\n",
    "            t_row = {}\n",
    "            for td, th in zip(tr.find_all(\"td\"), headings):             \n",
    "                t_row[th] = td.text.replace('\\n', '').replace('$', '').strip()\n",
    "            table_data.append(t_row)\n",
    "        #data is already stored in table_data\n",
    "        fileName = baseCode+\"_\"+baseYear+\".json\"\n",
    "        with open(fileName, 'w') as fp:\n",
    "            json.dump(table_data, fp) \n",
    "        pass\n",
    "    except Exception as e:\n",
    "        print(e)\n",
    "    finally:\n",
    "        browser.quit()\n"
   ]
  },
  {
   "cell_type": "code",
   "execution_count": 195,
   "metadata": {},
   "outputs": [
    {
     "output_type": "stream",
     "name": "stdout",
     "text": "$123131\n"
    }
   ],
   "source": [
    "data = \" $123131\"\n",
    "d = re.sub('\\n\\$', 'Python', data)\n",
    "print(d)"
   ]
  },
  {
   "cell_type": "code",
   "execution_count": null,
   "metadata": {},
   "outputs": [],
   "source": []
  }
 ],
 "metadata": {
  "language_info": {
   "codemirror_mode": {
    "name": "ipython",
    "version": 3
   },
   "file_extension": ".py",
   "mimetype": "text/x-python",
   "name": "python",
   "nbconvert_exporter": "python",
   "pygments_lexer": "ipython3",
   "version": "3.8.2-final"
  },
  "orig_nbformat": 2,
  "kernelspec": {
   "name": "python38232bitf128dbd54e48427da1531906947645a0",
   "display_name": "Python 3.8.2 32-bit"
  }
 },
 "nbformat": 4,
 "nbformat_minor": 2
}